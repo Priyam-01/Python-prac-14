{
 "cells": [
  {
   "cell_type": "code",
   "execution_count": 16,
   "id": "db515191",
   "metadata": {
    "scrolled": true
   },
   "outputs": [
    {
     "name": "stdout",
     "output_type": "stream",
     "text": [
      "2 is prime number\n",
      "3 is prime number\n",
      "4 is not a prime number\n",
      "5 is prime number\n",
      "6 is not a prime number\n",
      "7 is prime number\n",
      "8 is not a prime number\n",
      "9 is not a prime number\n"
     ]
    }
   ],
   "source": [
    "for i in range(1,10):\n",
    "    if i == 1:\n",
    "        continue\n",
    "    prime = True\n",
    "    for j in range(2, i):\n",
    "        if i % j == 0:\n",
    "            prime = False\n",
    "    if prime:\n",
    "        print(i, \"is prime number\")\n",
    "    else:\n",
    "        print(i , \"is not a prime number\")"
   ]
  },
  {
   "cell_type": "code",
   "execution_count": 17,
   "id": "ef93ed32",
   "metadata": {},
   "outputs": [
    {
     "name": "stdout",
     "output_type": "stream",
     "text": [
      "1 is not a prime number\n",
      "2 is prime number\n",
      "3 is prime number\n",
      "4 is not a prime number\n",
      "5 is prime number\n",
      "6 is not a prime number\n",
      "7 is prime number\n",
      "8 is not a prime number\n",
      "9 is not a prime number\n"
     ]
    }
   ],
   "source": [
    "for i in range(1, 10):\n",
    "    prime = True\n",
    "    if i > 1:  # Only perform checks for numbers greater than 1\n",
    "        for j in range(2, i):\n",
    "            if i % j == 0:\n",
    "                prime = False\n",
    "                break  # No need to continue checking if it's not prime\n",
    "    else:\n",
    "        prime = False  # 1 is not prime\n",
    "    if prime:\n",
    "        print(i, \"is prime number\")\n",
    "    else:\n",
    "        print(i, \"is not a prime number\")\n"
   ]
  },
  {
   "cell_type": "markdown",
   "id": "8fc95c80",
   "metadata": {},
   "source": [
    "# Prime number"
   ]
  },
  {
   "cell_type": "code",
   "execution_count": 18,
   "id": "434d5397",
   "metadata": {},
   "outputs": [
    {
     "name": "stdout",
     "output_type": "stream",
     "text": [
      "1\n",
      "2\n",
      "3\n",
      "4\n",
      "5\n",
      "6\n",
      "7\n",
      "8\n",
      "9\n"
     ]
    }
   ],
   "source": [
    "for i in range(1,10):\n",
    "    print(i)"
   ]
  },
  {
   "cell_type": "markdown",
   "id": "151beac4",
   "metadata": {},
   "source": [
    "# find missing number then convert it into reverse array"
   ]
  },
  {
   "cell_type": "code",
   "execution_count": 23,
   "id": "877d5ae4",
   "metadata": {},
   "outputs": [
    {
     "data": {
      "text/plain": [
       "[9, 8, 7, 6, 2]"
      ]
     },
     "execution_count": 23,
     "metadata": {},
     "output_type": "execute_result"
    }
   ],
   "source": [
    "S = [1,3,4,5,10]\n",
    "\n",
    "missing_list = []\n",
    "for i in range(1,10):\n",
    "    if i not in S:\n",
    "        missing_list.append(i)\n",
    "missing_list\n",
    "\n",
    "missing_list[::-1]\n",
    "    "
   ]
  },
  {
   "cell_type": "code",
   "execution_count": null,
   "id": "a1d946cb",
   "metadata": {},
   "outputs": [],
   "source": []
  }
 ],
 "metadata": {
  "kernelspec": {
   "display_name": "Python 3 (ipykernel)",
   "language": "python",
   "name": "python3"
  },
  "language_info": {
   "codemirror_mode": {
    "name": "ipython",
    "version": 3
   },
   "file_extension": ".py",
   "mimetype": "text/x-python",
   "name": "python",
   "nbconvert_exporter": "python",
   "pygments_lexer": "ipython3",
   "version": "3.11.5"
  }
 },
 "nbformat": 4,
 "nbformat_minor": 5
}
